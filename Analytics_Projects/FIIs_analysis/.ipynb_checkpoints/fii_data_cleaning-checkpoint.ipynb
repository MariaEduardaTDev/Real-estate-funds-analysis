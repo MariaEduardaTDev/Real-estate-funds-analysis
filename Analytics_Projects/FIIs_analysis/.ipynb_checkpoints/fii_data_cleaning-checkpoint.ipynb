{
 "cells": [
  {
   "cell_type": "code",
   "execution_count": 113,
   "id": "433be66b-1d49-4dcc-abc7-86f63499883c",
   "metadata": {},
   "outputs": [],
   "source": [
    "import pandas as pd\n",
    "import numpy as np\n",
    "import plotly.express as px\n",
    "import seaborn as sns\n",
    "import matplotlib.pyplot as plt"
   ]
  },
  {
   "cell_type": "markdown",
   "id": "5d4b724a-0ac2-4197-ae35-9ba3c98fd99f",
   "metadata": {},
   "source": [
    "### Carregando e importando dados "
   ]
  },
  {
   "cell_type": "code",
   "execution_count": 220,
   "id": "425562b7-7146-4ea3-922e-10127222f028",
   "metadata": {
    "scrolled": true
   },
   "outputs": [
    {
     "name": "stdout",
     "output_type": "stream",
     "text": [
      "<class 'pandas.core.frame.DataFrame'>\n",
      "Index: 527 entries, AAGR11 to ZIFI11\n",
      "Data columns (total 10 columns):\n",
      " #   Column               Non-Null Count  Dtype  \n",
      "---  ------               --------------  -----  \n",
      " 0   SETOR                526 non-null    object \n",
      " 1   COTACAO_FECHAMENTO   527 non-null    object \n",
      " 2   VALOR                527 non-null    float64\n",
      " 3   LIQUIDEZMEDIADIARIA  480 non-null    float64\n",
      " 4   PVP                  527 non-null    float64\n",
      " 5   YELD                 527 non-null    object \n",
      " 6   MEDIA_YIELD_12M      527 non-null    object \n",
      " 7   RENTABILIDADE        527 non-null    object \n",
      " 8   NUMERO_COTISTA       527 non-null    int64  \n",
      " 9   PATRIMONIO_LIQUIDO   527 non-null    float64\n",
      "dtypes: float64(4), int64(1), object(5)\n",
      "memory usage: 45.3+ KB\n"
     ]
    },
    {
     "data": {
      "text/html": [
       "<div>\n",
       "<style scoped>\n",
       "    .dataframe tbody tr th:only-of-type {\n",
       "        vertical-align: middle;\n",
       "    }\n",
       "\n",
       "    .dataframe tbody tr th {\n",
       "        vertical-align: top;\n",
       "    }\n",
       "\n",
       "    .dataframe thead th {\n",
       "        text-align: right;\n",
       "    }\n",
       "</style>\n",
       "<table border=\"1\" class=\"dataframe\">\n",
       "  <thead>\n",
       "    <tr style=\"text-align: right;\">\n",
       "      <th></th>\n",
       "      <th>SETOR</th>\n",
       "      <th>COTACAO_FECHAMENTO</th>\n",
       "      <th>VALOR</th>\n",
       "      <th>LIQUIDEZMEDIADIARIA</th>\n",
       "      <th>PVP</th>\n",
       "      <th>YELD</th>\n",
       "      <th>MEDIA_YIELD_12M</th>\n",
       "      <th>RENTABILIDADE</th>\n",
       "      <th>NUMERO_COTISTA</th>\n",
       "      <th>PATRIMONIO_LIQUIDO</th>\n",
       "    </tr>\n",
       "    <tr>\n",
       "      <th>TICKER</th>\n",
       "      <th></th>\n",
       "      <th></th>\n",
       "      <th></th>\n",
       "      <th></th>\n",
       "      <th></th>\n",
       "      <th></th>\n",
       "      <th></th>\n",
       "      <th></th>\n",
       "      <th></th>\n",
       "      <th></th>\n",
       "    </tr>\n",
       "  </thead>\n",
       "  <tbody>\n",
       "    <tr>\n",
       "      <th>AAGR11</th>\n",
       "      <td>Outros</td>\n",
       "      <td>96.1400</td>\n",
       "      <td>99.00</td>\n",
       "      <td>5250.61</td>\n",
       "      <td>0.00</td>\n",
       "      <td>1.2100</td>\n",
       "      <td>1.2625</td>\n",
       "      <td>10.0613</td>\n",
       "      <td>0</td>\n",
       "      <td>0.00</td>\n",
       "    </tr>\n",
       "    <tr>\n",
       "      <th>AAZQ11</th>\n",
       "      <td>Outros</td>\n",
       "      <td>7.3400</td>\n",
       "      <td>7.21</td>\n",
       "      <td>685569.94</td>\n",
       "      <td>0.84</td>\n",
       "      <td>1.2900</td>\n",
       "      <td>1.4817</td>\n",
       "      <td>20.5712</td>\n",
       "      <td>29817</td>\n",
       "      <td>206946884.06</td>\n",
       "    </tr>\n",
       "    <tr>\n",
       "      <th>ABCP11</th>\n",
       "      <td>Shoppings</td>\n",
       "      <td>78.8400</td>\n",
       "      <td>79.49</td>\n",
       "      <td>43676.94</td>\n",
       "      <td>0.74</td>\n",
       "      <td>0.7600</td>\n",
       "      <td>0.8650</td>\n",
       "      <td>23.1464</td>\n",
       "      <td>14920</td>\n",
       "      <td>507004106.39</td>\n",
       "    </tr>\n",
       "    <tr>\n",
       "      <th>AFHI11</th>\n",
       "      <td>Papéis</td>\n",
       "      <td>91.7500</td>\n",
       "      <td>92.75</td>\n",
       "      <td>653506.06</td>\n",
       "      <td>0.99</td>\n",
       "      <td>1.0800</td>\n",
       "      <td>1.0783</td>\n",
       "      <td>11.4550</td>\n",
       "      <td>42402</td>\n",
       "      <td>424592667.11</td>\n",
       "    </tr>\n",
       "    <tr>\n",
       "      <th>AGRX11</th>\n",
       "      <td>Outros</td>\n",
       "      <td>8.0900</td>\n",
       "      <td>8.06</td>\n",
       "      <td>206613.83</td>\n",
       "      <td>0.79</td>\n",
       "      <td>1.3600</td>\n",
       "      <td>1.3467</td>\n",
       "      <td>22.9554</td>\n",
       "      <td>19257</td>\n",
       "      <td>183235232.66</td>\n",
       "    </tr>\n",
       "    <tr>\n",
       "      <th>...</th>\n",
       "      <td>...</td>\n",
       "      <td>...</td>\n",
       "      <td>...</td>\n",
       "      <td>...</td>\n",
       "      <td>...</td>\n",
       "      <td>...</td>\n",
       "      <td>...</td>\n",
       "      <td>...</td>\n",
       "      <td>...</td>\n",
       "      <td>...</td>\n",
       "    </tr>\n",
       "    <tr>\n",
       "      <th>YUFI11B</th>\n",
       "      <td>Outros</td>\n",
       "      <td>0.0000</td>\n",
       "      <td>0.00</td>\n",
       "      <td>NaN</td>\n",
       "      <td>0.00</td>\n",
       "      <td>0.0000</td>\n",
       "      <td>0.0000</td>\n",
       "      <td>0.0000</td>\n",
       "      <td>0</td>\n",
       "      <td>41701052.98</td>\n",
       "    </tr>\n",
       "    <tr>\n",
       "      <th>ZAGH11</th>\n",
       "      <td>Serviços Financeiros Diversos</td>\n",
       "      <td>10.1400</td>\n",
       "      <td>10.37</td>\n",
       "      <td>1083.94</td>\n",
       "      <td>1.14</td>\n",
       "      <td>0.6900</td>\n",
       "      <td>0.5650</td>\n",
       "      <td>-16.9743</td>\n",
       "      <td>408</td>\n",
       "      <td>80888876.47</td>\n",
       "    </tr>\n",
       "    <tr>\n",
       "      <th>ZAVC11</th>\n",
       "      <td>Outros</td>\n",
       "      <td>---</td>\n",
       "      <td>8.48</td>\n",
       "      <td>54011.11</td>\n",
       "      <td>0.82</td>\n",
       "      <td>0.0000</td>\n",
       "      <td>1.2417</td>\n",
       "      <td>---</td>\n",
       "      <td>195</td>\n",
       "      <td>30880981.49</td>\n",
       "    </tr>\n",
       "    <tr>\n",
       "      <th>ZAVI11</th>\n",
       "      <td>Outros</td>\n",
       "      <td>93.0300</td>\n",
       "      <td>93.60</td>\n",
       "      <td>77147.78</td>\n",
       "      <td>0.71</td>\n",
       "      <td>1.2600</td>\n",
       "      <td>1.1767</td>\n",
       "      <td>0.9309</td>\n",
       "      <td>3332</td>\n",
       "      <td>153693067.63</td>\n",
       "    </tr>\n",
       "    <tr>\n",
       "      <th>ZIFI11</th>\n",
       "      <td>Fundo de Desenvolvimento</td>\n",
       "      <td>---</td>\n",
       "      <td>600.00</td>\n",
       "      <td>2812.50</td>\n",
       "      <td>0.34</td>\n",
       "      <td>0.0000</td>\n",
       "      <td>0.0000</td>\n",
       "      <td>---</td>\n",
       "      <td>94</td>\n",
       "      <td>84201982.63</td>\n",
       "    </tr>\n",
       "  </tbody>\n",
       "</table>\n",
       "<p>527 rows × 10 columns</p>\n",
       "</div>"
      ],
      "text/plain": [
       "                                 SETOR COTACAO_FECHAMENTO  VALOR  \\\n",
       "TICKER                                                             \n",
       "AAGR11                          Outros            96.1400  99.00   \n",
       "AAZQ11                          Outros             7.3400   7.21   \n",
       "ABCP11                       Shoppings            78.8400  79.49   \n",
       "AFHI11                          Papéis            91.7500  92.75   \n",
       "AGRX11                          Outros             8.0900   8.06   \n",
       "...                                ...                ...    ...   \n",
       "YUFI11B                         Outros             0.0000   0.00   \n",
       "ZAGH11   Serviços Financeiros Diversos            10.1400  10.37   \n",
       "ZAVC11                          Outros                ---   8.48   \n",
       "ZAVI11                          Outros            93.0300  93.60   \n",
       "ZIFI11        Fundo de Desenvolvimento                --- 600.00   \n",
       "\n",
       "         LIQUIDEZMEDIADIARIA  PVP    YELD MEDIA_YIELD_12M RENTABILIDADE  \\\n",
       "TICKER                                                                    \n",
       "AAGR11               5250.61 0.00  1.2100          1.2625       10.0613   \n",
       "AAZQ11             685569.94 0.84  1.2900          1.4817       20.5712   \n",
       "ABCP11              43676.94 0.74  0.7600          0.8650       23.1464   \n",
       "AFHI11             653506.06 0.99  1.0800          1.0783       11.4550   \n",
       "AGRX11             206613.83 0.79  1.3600          1.3467       22.9554   \n",
       "...                      ...  ...     ...             ...           ...   \n",
       "YUFI11B                  NaN 0.00  0.0000          0.0000        0.0000   \n",
       "ZAGH11               1083.94 1.14  0.6900          0.5650      -16.9743   \n",
       "ZAVC11              54011.11 0.82  0.0000          1.2417           ---   \n",
       "ZAVI11              77147.78 0.71  1.2600          1.1767        0.9309   \n",
       "ZIFI11               2812.50 0.34  0.0000          0.0000           ---   \n",
       "\n",
       "         NUMERO_COTISTA  PATRIMONIO_LIQUIDO  \n",
       "TICKER                                       \n",
       "AAGR11                0                0.00  \n",
       "AAZQ11            29817        206946884.06  \n",
       "ABCP11            14920        507004106.39  \n",
       "AFHI11            42402        424592667.11  \n",
       "AGRX11            19257        183235232.66  \n",
       "...                 ...                 ...  \n",
       "YUFI11B               0         41701052.98  \n",
       "ZAGH11              408         80888876.47  \n",
       "ZAVC11              195         30880981.49  \n",
       "ZAVI11             3332        153693067.63  \n",
       "ZIFI11               94         84201982.63  \n",
       "\n",
       "[527 rows x 10 columns]"
      ]
     },
     "execution_count": 220,
     "metadata": {},
     "output_type": "execute_result"
    }
   ],
   "source": [
    "# leitura dos dados \n",
    "df = pd.read_csv(\"df_fiis.csv\", index_col=\"TICKER\")\n",
    "\n",
    "# Visualização de valores floats com 2 casas decimais\n",
    "pd.set_option('display.float_format', '{:.2f}'.format)\n",
    "\n",
    "\n",
    "# Removendo colunas indesejadas\n",
    "df = df.drop(\n",
    "    columns=[\n",
    "        \"SOMA_YIELD_ANO_CORRENTE\",\n",
    "        \"TX_GESTAO\"\n",
    "    ]\n",
    ")\n",
    "\n",
    "# Visualização dos tipos dados\n",
    "df.info()\n",
    "\n",
    "# Visualizar dados\n",
    "df"
   ]
  },
  {
   "cell_type": "markdown",
   "id": "4e7e2371-9f16-4107-9808-90dff66e4aa2",
   "metadata": {},
   "source": [
    "### Limpeza de dados (Removendo dados inválidos)"
   ]
  },
  {
   "cell_type": "code",
   "execution_count": 202,
   "id": "fd369437-29b5-4910-a930-6aa5ba66b649",
   "metadata": {},
   "outputs": [
    {
     "name": "stdout",
     "output_type": "stream",
     "text": [
      "<class 'pandas.core.frame.DataFrame'>\n",
      "Index: 527 entries, AAGR11 to ZIFI11\n",
      "Data columns (total 9 columns):\n",
      " #   Column                 Non-Null Count  Dtype  \n",
      "---  ------                 --------------  -----  \n",
      " 0   SETOR                  526 non-null    object \n",
      " 1   COTACAO_FECHAMENTO     447 non-null    float64\n",
      " 2   VALOR                  527 non-null    float64\n",
      " 3   LIQUIDEZ_MEDIA_DIARIA  480 non-null    float64\n",
      " 4   PVP                    527 non-null    float64\n",
      " 5   MEDIA_YIELD_12M        524 non-null    float64\n",
      " 6   RENTABILIDADE          431 non-null    float64\n",
      " 7   NUMERO_COTISTA         527 non-null    int64  \n",
      " 8   PATRIMONIO_LIQUIDO     527 non-null    float64\n",
      "dtypes: float64(7), int64(1), object(1)\n",
      "memory usage: 41.2+ KB\n"
     ]
    }
   ],
   "source": [
    "# Ajustar valores numéricos\n",
    "df_filtrado = df.copy()  # cria cópia do df original\n",
    "\n",
    "df_filtrado = df_filtrado.replace(\"---\", np.nan)\n",
    "df_filtrado[[\"LIQUIDEZ_MEDIA_DIARIA\", \"RENTABILIDADE\", \"COTACAO_FECHAMENTO\", \"MEDIA_YIELD_12M\"]] = df_filtrado[\n",
    "    [\"LIQUIDEZ_MEDIA_DIARIA\", \"RENTABILIDADE\", \"COTACAO_FECHAMENTO\", \"MEDIA_YIELD_12M\"]\n",
    "    ].astype(float)\n",
    "\n",
    "# Verificar se os dados estão corretos após correção\n",
    "df_filtrado.info()"
   ]
  },
  {
   "cell_type": "code",
   "execution_count": 203,
   "id": "40ec50b0-fb26-422e-b758-c2db635bad95",
   "metadata": {},
   "outputs": [
    {
     "data": {
      "text/html": [
       "<div>\n",
       "<style scoped>\n",
       "    .dataframe tbody tr th:only-of-type {\n",
       "        vertical-align: middle;\n",
       "    }\n",
       "\n",
       "    .dataframe tbody tr th {\n",
       "        vertical-align: top;\n",
       "    }\n",
       "\n",
       "    .dataframe thead th {\n",
       "        text-align: right;\n",
       "    }\n",
       "</style>\n",
       "<table border=\"1\" class=\"dataframe\">\n",
       "  <thead>\n",
       "    <tr style=\"text-align: right;\">\n",
       "      <th></th>\n",
       "      <th>COTACAO_FECHAMENTO</th>\n",
       "      <th>VALOR</th>\n",
       "      <th>LIQUIDEZ_MEDIA_DIARIA</th>\n",
       "      <th>PVP</th>\n",
       "      <th>MEDIA_YIELD_12M</th>\n",
       "      <th>RENTABILIDADE</th>\n",
       "      <th>NUMERO_COTISTA</th>\n",
       "      <th>PATRIMONIO_LIQUIDO</th>\n",
       "    </tr>\n",
       "  </thead>\n",
       "  <tbody>\n",
       "    <tr>\n",
       "      <th>count</th>\n",
       "      <td>420.00</td>\n",
       "      <td>420.00</td>\n",
       "      <td>420.00</td>\n",
       "      <td>420.00</td>\n",
       "      <td>420.00</td>\n",
       "      <td>420.00</td>\n",
       "      <td>420.00</td>\n",
       "      <td>420.00</td>\n",
       "    </tr>\n",
       "    <tr>\n",
       "      <th>mean</th>\n",
       "      <td>108.12</td>\n",
       "      <td>107.48</td>\n",
       "      <td>840052.84</td>\n",
       "      <td>0.81</td>\n",
       "      <td>8918.66</td>\n",
       "      <td>121.62</td>\n",
       "      <td>34228.38</td>\n",
       "      <td>523511875.45</td>\n",
       "    </tr>\n",
       "    <tr>\n",
       "      <th>std</th>\n",
       "      <td>226.26</td>\n",
       "      <td>226.12</td>\n",
       "      <td>1732704.57</td>\n",
       "      <td>0.87</td>\n",
       "      <td>182705.51</td>\n",
       "      <td>2159.84</td>\n",
       "      <td>93931.39</td>\n",
       "      <td>936395588.96</td>\n",
       "    </tr>\n",
       "    <tr>\n",
       "      <th>min</th>\n",
       "      <td>0.01</td>\n",
       "      <td>0.30</td>\n",
       "      <td>2.96</td>\n",
       "      <td>0.00</td>\n",
       "      <td>0.00</td>\n",
       "      <td>-84.16</td>\n",
       "      <td>0.00</td>\n",
       "      <td>0.00</td>\n",
       "    </tr>\n",
       "    <tr>\n",
       "      <th>25%</th>\n",
       "      <td>10.45</td>\n",
       "      <td>10.19</td>\n",
       "      <td>21869.15</td>\n",
       "      <td>0.63</td>\n",
       "      <td>0.82</td>\n",
       "      <td>2.85</td>\n",
       "      <td>394.25</td>\n",
       "      <td>66343917.70</td>\n",
       "    </tr>\n",
       "    <tr>\n",
       "      <th>50%</th>\n",
       "      <td>69.75</td>\n",
       "      <td>70.78</td>\n",
       "      <td>189290.55</td>\n",
       "      <td>0.84</td>\n",
       "      <td>1.07</td>\n",
       "      <td>11.39</td>\n",
       "      <td>4185.00</td>\n",
       "      <td>196163849.47</td>\n",
       "    </tr>\n",
       "    <tr>\n",
       "      <th>75%</th>\n",
       "      <td>96.29</td>\n",
       "      <td>96.01</td>\n",
       "      <td>808764.21</td>\n",
       "      <td>0.95</td>\n",
       "      <td>1.27</td>\n",
       "      <td>17.51</td>\n",
       "      <td>22671.75</td>\n",
       "      <td>483432718.06</td>\n",
       "    </tr>\n",
       "    <tr>\n",
       "      <th>max</th>\n",
       "      <td>2337.00</td>\n",
       "      <td>2384.99</td>\n",
       "      <td>15913220.78</td>\n",
       "      <td>16.67</td>\n",
       "      <td>3744352.25</td>\n",
       "      <td>44259.43</td>\n",
       "      <td>1280849.00</td>\n",
       "      <td>7788648901.14</td>\n",
       "    </tr>\n",
       "  </tbody>\n",
       "</table>\n",
       "</div>"
      ],
      "text/plain": [
       "       COTACAO_FECHAMENTO   VALOR  LIQUIDEZ_MEDIA_DIARIA    PVP  \\\n",
       "count              420.00  420.00                 420.00 420.00   \n",
       "mean               108.12  107.48              840052.84   0.81   \n",
       "std                226.26  226.12             1732704.57   0.87   \n",
       "min                  0.01    0.30                   2.96   0.00   \n",
       "25%                 10.45   10.19               21869.15   0.63   \n",
       "50%                 69.75   70.78              189290.55   0.84   \n",
       "75%                 96.29   96.01              808764.21   0.95   \n",
       "max               2337.00 2384.99            15913220.78  16.67   \n",
       "\n",
       "       MEDIA_YIELD_12M  RENTABILIDADE  NUMERO_COTISTA  PATRIMONIO_LIQUIDO  \n",
       "count           420.00         420.00          420.00              420.00  \n",
       "mean           8918.66         121.62        34228.38        523511875.45  \n",
       "std          182705.51        2159.84        93931.39        936395588.96  \n",
       "min               0.00         -84.16            0.00                0.00  \n",
       "25%               0.82           2.85          394.25         66343917.70  \n",
       "50%               1.07          11.39         4185.00        196163849.47  \n",
       "75%               1.27          17.51        22671.75        483432718.06  \n",
       "max         3744352.25       44259.43      1280849.00       7788648901.14  "
      ]
     },
     "execution_count": 203,
     "metadata": {},
     "output_type": "execute_result"
    }
   ],
   "source": [
    "# Remoção dos valores \"NaN\"\n",
    "df_filtrado = df_filtrado.dropna()\n",
    "df_filtrado.isna().sum()\n",
    "\n",
    "# Visualizar estastística\n",
    "df_filtrado.describe()"
   ]
  },
  {
   "cell_type": "markdown",
   "id": "10a8977b-4045-4320-9b1b-a051cd7acfea",
   "metadata": {},
   "source": [
    "### Removendo dados nulos"
   ]
  },
  {
   "cell_type": "code",
   "execution_count": 204,
   "id": "2d68aa0f-3fe1-42d6-93b0-000c8c79173f",
   "metadata": {},
   "outputs": [
    {
     "data": {
      "text/html": [
       "<div>\n",
       "<style scoped>\n",
       "    .dataframe tbody tr th:only-of-type {\n",
       "        vertical-align: middle;\n",
       "    }\n",
       "\n",
       "    .dataframe tbody tr th {\n",
       "        vertical-align: top;\n",
       "    }\n",
       "\n",
       "    .dataframe thead th {\n",
       "        text-align: right;\n",
       "    }\n",
       "</style>\n",
       "<table border=\"1\" class=\"dataframe\">\n",
       "  <thead>\n",
       "    <tr style=\"text-align: right;\">\n",
       "      <th></th>\n",
       "      <th>COTACAO_FECHAMENTO</th>\n",
       "      <th>VALOR</th>\n",
       "      <th>LIQUIDEZ_MEDIA_DIARIA</th>\n",
       "      <th>PVP</th>\n",
       "      <th>MEDIA_YIELD_12M</th>\n",
       "      <th>RENTABILIDADE</th>\n",
       "      <th>NUMERO_COTISTA</th>\n",
       "      <th>PATRIMONIO_LIQUIDO</th>\n",
       "    </tr>\n",
       "  </thead>\n",
       "  <tbody>\n",
       "    <tr>\n",
       "      <th>count</th>\n",
       "      <td>383.00</td>\n",
       "      <td>383.00</td>\n",
       "      <td>383.00</td>\n",
       "      <td>383.00</td>\n",
       "      <td>383.00</td>\n",
       "      <td>383.00</td>\n",
       "      <td>383.00</td>\n",
       "      <td>383.00</td>\n",
       "    </tr>\n",
       "    <tr>\n",
       "      <th>mean</th>\n",
       "      <td>111.86</td>\n",
       "      <td>111.11</td>\n",
       "      <td>846428.52</td>\n",
       "      <td>0.88</td>\n",
       "      <td>9779.89</td>\n",
       "      <td>129.27</td>\n",
       "      <td>37461.73</td>\n",
       "      <td>574086129.74</td>\n",
       "    </tr>\n",
       "    <tr>\n",
       "      <th>std</th>\n",
       "      <td>236.37</td>\n",
       "      <td>236.24</td>\n",
       "      <td>1785405.78</td>\n",
       "      <td>0.88</td>\n",
       "      <td>191327.29</td>\n",
       "      <td>2261.11</td>\n",
       "      <td>97765.84</td>\n",
       "      <td>965741127.33</td>\n",
       "    </tr>\n",
       "    <tr>\n",
       "      <th>min</th>\n",
       "      <td>0.01</td>\n",
       "      <td>0.30</td>\n",
       "      <td>2.96</td>\n",
       "      <td>0.09</td>\n",
       "      <td>0.00</td>\n",
       "      <td>-84.16</td>\n",
       "      <td>1.00</td>\n",
       "      <td>79368.95</td>\n",
       "    </tr>\n",
       "    <tr>\n",
       "      <th>25%</th>\n",
       "      <td>10.19</td>\n",
       "      <td>9.95</td>\n",
       "      <td>20504.69</td>\n",
       "      <td>0.69</td>\n",
       "      <td>0.81</td>\n",
       "      <td>3.30</td>\n",
       "      <td>610.00</td>\n",
       "      <td>90374708.69</td>\n",
       "    </tr>\n",
       "    <tr>\n",
       "      <th>50%</th>\n",
       "      <td>69.00</td>\n",
       "      <td>69.90</td>\n",
       "      <td>183886.94</td>\n",
       "      <td>0.85</td>\n",
       "      <td>1.06</td>\n",
       "      <td>11.55</td>\n",
       "      <td>5572.00</td>\n",
       "      <td>234575135.41</td>\n",
       "    </tr>\n",
       "    <tr>\n",
       "      <th>75%</th>\n",
       "      <td>95.44</td>\n",
       "      <td>95.37</td>\n",
       "      <td>801316.25</td>\n",
       "      <td>0.95</td>\n",
       "      <td>1.26</td>\n",
       "      <td>18.05</td>\n",
       "      <td>27451.50</td>\n",
       "      <td>593533653.78</td>\n",
       "    </tr>\n",
       "    <tr>\n",
       "      <th>max</th>\n",
       "      <td>2337.00</td>\n",
       "      <td>2384.99</td>\n",
       "      <td>15913220.78</td>\n",
       "      <td>16.67</td>\n",
       "      <td>3744352.25</td>\n",
       "      <td>44259.43</td>\n",
       "      <td>1280849.00</td>\n",
       "      <td>7788648901.14</td>\n",
       "    </tr>\n",
       "  </tbody>\n",
       "</table>\n",
       "</div>"
      ],
      "text/plain": [
       "       COTACAO_FECHAMENTO   VALOR  LIQUIDEZ_MEDIA_DIARIA    PVP  \\\n",
       "count              383.00  383.00                 383.00 383.00   \n",
       "mean               111.86  111.11              846428.52   0.88   \n",
       "std                236.37  236.24             1785405.78   0.88   \n",
       "min                  0.01    0.30                   2.96   0.09   \n",
       "25%                 10.19    9.95               20504.69   0.69   \n",
       "50%                 69.00   69.90              183886.94   0.85   \n",
       "75%                 95.44   95.37              801316.25   0.95   \n",
       "max               2337.00 2384.99            15913220.78  16.67   \n",
       "\n",
       "       MEDIA_YIELD_12M  RENTABILIDADE  NUMERO_COTISTA  PATRIMONIO_LIQUIDO  \n",
       "count           383.00         383.00          383.00              383.00  \n",
       "mean           9779.89         129.27        37461.73        574086129.74  \n",
       "std          191327.29        2261.11        97765.84        965741127.33  \n",
       "min               0.00         -84.16            1.00            79368.95  \n",
       "25%               0.81           3.30          610.00         90374708.69  \n",
       "50%               1.06          11.55         5572.00        234575135.41  \n",
       "75%               1.26          18.05        27451.50        593533653.78  \n",
       "max         3744352.25       44259.43      1280849.00       7788648901.14  "
      ]
     },
     "execution_count": 204,
     "metadata": {},
     "output_type": "execute_result"
    }
   ],
   "source": [
    "# Removendo dados nulos\n",
    "filtro_dados_nulos = (df_filtrado[\"PATRIMONIO_LIQUIDO\"] > 0) & (df_filtrado[\"NUMERO_COTISTA\"] > 0)\n",
    "\n",
    "# Filtrando dados\n",
    "df_filtrado = df_filtrado[filtro_dados_nulos]\n",
    "\n",
    "# Visualizar estatísticas após correção\n",
    "df_filtrado.describe()\n",
    "\n"
   ]
  },
  {
   "cell_type": "code",
   "execution_count": 205,
   "id": "7db8ff1f-d2fe-4722-ac47-0b6a8d8d0468",
   "metadata": {},
   "outputs": [
    {
     "data": {
      "text/plain": [
       "-27.324478178368118"
      ]
     },
     "execution_count": 205,
     "metadata": {},
     "output_type": "execute_result"
    }
   ],
   "source": [
    "# Percentual de dados removidos\n",
    "((len(df_filtrado) / len(df))-1)*100"
   ]
  },
  {
   "cell_type": "markdown",
   "id": "0b550b19-1a0a-4462-a695-755deaf58b4d",
   "metadata": {},
   "source": [
    "### Removendo dados inconsistentes (outliers)"
   ]
  },
  {
   "cell_type": "code",
   "execution_count": 206,
   "id": "c1144916-03bb-4259-8ab7-616e76fdf211",
   "metadata": {},
   "outputs": [
    {
     "data": {
      "text/html": [
       "<div>\n",
       "<style scoped>\n",
       "    .dataframe tbody tr th:only-of-type {\n",
       "        vertical-align: middle;\n",
       "    }\n",
       "\n",
       "    .dataframe tbody tr th {\n",
       "        vertical-align: top;\n",
       "    }\n",
       "\n",
       "    .dataframe thead th {\n",
       "        text-align: right;\n",
       "    }\n",
       "</style>\n",
       "<table border=\"1\" class=\"dataframe\">\n",
       "  <thead>\n",
       "    <tr style=\"text-align: right;\">\n",
       "      <th></th>\n",
       "      <th>COTACAO_FECHAMENTO</th>\n",
       "      <th>VALOR</th>\n",
       "      <th>LIQUIDEZ_MEDIA_DIARIA</th>\n",
       "      <th>PVP</th>\n",
       "      <th>MEDIA_YIELD_12M</th>\n",
       "      <th>RENTABILIDADE</th>\n",
       "      <th>NUMERO_COTISTA</th>\n",
       "      <th>PATRIMONIO_LIQUIDO</th>\n",
       "    </tr>\n",
       "  </thead>\n",
       "  <tbody>\n",
       "    <tr>\n",
       "      <th>count</th>\n",
       "      <td>145.00</td>\n",
       "      <td>145.00</td>\n",
       "      <td>145.00</td>\n",
       "      <td>145.00</td>\n",
       "      <td>145.00</td>\n",
       "      <td>145.00</td>\n",
       "      <td>145.00</td>\n",
       "      <td>145.00</td>\n",
       "    </tr>\n",
       "    <tr>\n",
       "      <th>mean</th>\n",
       "      <td>63.27</td>\n",
       "      <td>63.17</td>\n",
       "      <td>1795958.20</td>\n",
       "      <td>0.83</td>\n",
       "      <td>1.08</td>\n",
       "      <td>14.05</td>\n",
       "      <td>91859.44</td>\n",
       "      <td>1211004297.51</td>\n",
       "    </tr>\n",
       "    <tr>\n",
       "      <th>std</th>\n",
       "      <td>55.08</td>\n",
       "      <td>54.37</td>\n",
       "      <td>2139032.92</td>\n",
       "      <td>0.19</td>\n",
       "      <td>0.28</td>\n",
       "      <td>9.59</td>\n",
       "      <td>142779.06</td>\n",
       "      <td>1324182627.00</td>\n",
       "    </tr>\n",
       "    <tr>\n",
       "      <th>min</th>\n",
       "      <td>2.51</td>\n",
       "      <td>4.63</td>\n",
       "      <td>188342.72</td>\n",
       "      <td>0.09</td>\n",
       "      <td>0.00</td>\n",
       "      <td>-21.94</td>\n",
       "      <td>6600.00</td>\n",
       "      <td>108172369.31</td>\n",
       "    </tr>\n",
       "    <tr>\n",
       "      <th>25%</th>\n",
       "      <td>8.92</td>\n",
       "      <td>9.17</td>\n",
       "      <td>436789.17</td>\n",
       "      <td>0.77</td>\n",
       "      <td>0.99</td>\n",
       "      <td>10.51</td>\n",
       "      <td>17348.00</td>\n",
       "      <td>369438989.60</td>\n",
       "    </tr>\n",
       "    <tr>\n",
       "      <th>50%</th>\n",
       "      <td>69.51</td>\n",
       "      <td>71.56</td>\n",
       "      <td>1030917.86</td>\n",
       "      <td>0.87</td>\n",
       "      <td>1.10</td>\n",
       "      <td>14.44</td>\n",
       "      <td>41202.00</td>\n",
       "      <td>741554183.50</td>\n",
       "    </tr>\n",
       "    <tr>\n",
       "      <th>75%</th>\n",
       "      <td>89.49</td>\n",
       "      <td>89.12</td>\n",
       "      <td>2267287.11</td>\n",
       "      <td>0.94</td>\n",
       "      <td>1.21</td>\n",
       "      <td>19.37</td>\n",
       "      <td>114786.00</td>\n",
       "      <td>1613512314.92</td>\n",
       "    </tr>\n",
       "    <tr>\n",
       "      <th>max</th>\n",
       "      <td>509.51</td>\n",
       "      <td>501.05</td>\n",
       "      <td>11558178.89</td>\n",
       "      <td>1.59</td>\n",
       "      <td>1.90</td>\n",
       "      <td>48.91</td>\n",
       "      <td>1280849.00</td>\n",
       "      <td>7788648901.14</td>\n",
       "    </tr>\n",
       "  </tbody>\n",
       "</table>\n",
       "</div>"
      ],
      "text/plain": [
       "       COTACAO_FECHAMENTO  VALOR  LIQUIDEZ_MEDIA_DIARIA    PVP  \\\n",
       "count              145.00 145.00                 145.00 145.00   \n",
       "mean                63.27  63.17             1795958.20   0.83   \n",
       "std                 55.08  54.37             2139032.92   0.19   \n",
       "min                  2.51   4.63              188342.72   0.09   \n",
       "25%                  8.92   9.17              436789.17   0.77   \n",
       "50%                 69.51  71.56             1030917.86   0.87   \n",
       "75%                 89.49  89.12             2267287.11   0.94   \n",
       "max                509.51 501.05            11558178.89   1.59   \n",
       "\n",
       "       MEDIA_YIELD_12M  RENTABILIDADE  NUMERO_COTISTA  PATRIMONIO_LIQUIDO  \n",
       "count           145.00         145.00          145.00              145.00  \n",
       "mean              1.08          14.05        91859.44       1211004297.51  \n",
       "std               0.28           9.59       142779.06       1324182627.00  \n",
       "min               0.00         -21.94         6600.00        108172369.31  \n",
       "25%               0.99          10.51        17348.00        369438989.60  \n",
       "50%               1.10          14.44        41202.00        741554183.50  \n",
       "75%               1.21          19.37       114786.00       1613512314.92  \n",
       "max               1.90          48.91      1280849.00       7788648901.14  "
      ]
     },
     "execution_count": 206,
     "metadata": {},
     "output_type": "execute_result"
    }
   ],
   "source": [
    "# Remover outliers (PVP + YIELD + LIQUIDEZ + Nº COTISTAS)\n",
    "filtro_outliers = (\n",
    "    (df_filtrado[\"PVP\"] < 2)\n",
    "    & (df_filtrado[\"MEDIA_YIELD_12M\"] < 2)\n",
    "    & (df_filtrado[\"LIQUIDEZ_MEDIA_DIARIA\"] > df_filtrado[\"LIQUIDEZ_MEDIA_DIARIA\"].median())\n",
    "    & (df_filtrado[\"NUMERO_COTISTA\"] > df_filtrado[\"NUMERO_COTISTA\"].median())\n",
    ")\n",
    "\n",
    "df_filtrado = df_filtrado[filtro_outliers]\n",
    "\n",
    "# Visualizar estatísticas\n",
    "df_filtrado.describe()"
   ]
  },
  {
   "cell_type": "markdown",
   "id": "f1360a38-2c12-4181-a40d-ca7906930662",
   "metadata": {},
   "source": [
    "#### Boxplot para ver outliers"
   ]
  },
  {
   "cell_type": "code",
   "execution_count": 208,
   "id": "86472b0d-91d4-4980-ae28-f18610ea593f",
   "metadata": {},
   "outputs": [
    {
     "data": {
      "image/png": "[encoded data removed]",
      "text/plain": [
       "<Figure size 800x500 with 1 Axes>"
      ]
     },
     "metadata": {},
     "output_type": "display_data"
    }
   ],
   "source": [
    "# Boxplot para a liquidez\n",
    "plt.figure(figsize=(8, 5))\n",
    "sns.boxplot(x=df_filtrado['LIQUIDEZ_MEDIA_DIARIA'])\n",
    "plt.title('Distribuição da Liquidez Média Diária (FIIs filtrados)')\n",
    "plt.show()"
   ]
  },
  {
   "cell_type": "code",
   "execution_count": 198,
   "id": "3af0a165-82b1-4c31-ba93-4496e5be8b6a",
   "metadata": {},
   "outputs": [
    {
     "ename": "KeyError",
     "evalue": "'MEDIA_YIELD_12M'",
     "output_type": "error",
     "traceback": [
      "\u001b[31m---------------------------------------------------------------------------\u001b[39m",
      "\u001b[31mKeyError\u001b[39m                                  Traceback (most recent call last)",
      "\u001b[36mFile \u001b[39m\u001b[32m~\\Analytics_Projects\\my_env\\Lib\\site-packages\\pandas\\core\\indexes\\base.py:3812\u001b[39m, in \u001b[36mIndex.get_loc\u001b[39m\u001b[34m(self, key)\u001b[39m\n\u001b[32m   3811\u001b[39m \u001b[38;5;28;01mtry\u001b[39;00m:\n\u001b[32m-> \u001b[39m\u001b[32m3812\u001b[39m     \u001b[38;5;28;01mreturn\u001b[39;00m \u001b[38;5;28;43mself\u001b[39;49m\u001b[43m.\u001b[49m\u001b[43m_engine\u001b[49m\u001b[43m.\u001b[49m\u001b[43mget_loc\u001b[49m\u001b[43m(\u001b[49m\u001b[43mcasted_key\u001b[49m\u001b[43m)\u001b[49m\n\u001b[32m   3813\u001b[39m \u001b[38;5;28;01mexcept\u001b[39;00m \u001b[38;5;167;01mKeyError\u001b[39;00m \u001b[38;5;28;01mas\u001b[39;00m err:\n",
      "\u001b[36mFile \u001b[39m\u001b[32mpandas/_libs/index.pyx:167\u001b[39m, in \u001b[36mpandas._libs.index.IndexEngine.get_loc\u001b[39m\u001b[34m()\u001b[39m\n",
      "\u001b[36mFile \u001b[39m\u001b[32mpandas/_libs/index.pyx:196\u001b[39m, in \u001b[36mpandas._libs.index.IndexEngine.get_loc\u001b[39m\u001b[34m()\u001b[39m\n",
      "\u001b[36mFile \u001b[39m\u001b[32mpandas/_libs/hashtable_class_helper.pxi:7088\u001b[39m, in \u001b[36mpandas._libs.hashtable.PyObjectHashTable.get_item\u001b[39m\u001b[34m()\u001b[39m\n",
      "\u001b[36mFile \u001b[39m\u001b[32mpandas/_libs/hashtable_class_helper.pxi:7096\u001b[39m, in \u001b[36mpandas._libs.hashtable.PyObjectHashTable.get_item\u001b[39m\u001b[34m()\u001b[39m\n",
      "\u001b[31mKeyError\u001b[39m: 'MEDIA_YIELD_12M'",
      "\nThe above exception was the direct cause of the following exception:\n",
      "\u001b[31mKeyError\u001b[39m                                  Traceback (most recent call last)",
      "\u001b[36mCell\u001b[39m\u001b[36m \u001b[39m\u001b[32mIn[198]\u001b[39m\u001b[32m, line 2\u001b[39m\n\u001b[32m      1\u001b[39m \u001b[38;5;66;03m# Filtra os 30 FIIs com maior YIELD (yield de 12 meses)\u001b[39;00m\n\u001b[32m----> \u001b[39m\u001b[32m2\u001b[39m df_top_30_yield = \u001b[43mdf_fiis\u001b[49m\u001b[43m.\u001b[49m\u001b[43mnlargest\u001b[49m\u001b[43m(\u001b[49m\u001b[32;43m30\u001b[39;49m\u001b[43m,\u001b[49m\u001b[43m \u001b[49m\u001b[33;43m'\u001b[39;49m\u001b[33;43mMEDIA_YIELD_12M\u001b[39;49m\u001b[33;43m'\u001b[39;49m\u001b[43m)\u001b[49m\n\u001b[32m      4\u001b[39m \u001b[38;5;66;03m# Cria o gráfico de barras com Matplotlib\u001b[39;00m\n\u001b[32m      5\u001b[39m plt.figure(figsize=(\u001b[32m15\u001b[39m, \u001b[32m8\u001b[39m))\n",
      "\u001b[36mFile \u001b[39m\u001b[32m~\\Analytics_Projects\\my_env\\Lib\\site-packages\\pandas\\core\\frame.py:7651\u001b[39m, in \u001b[36mDataFrame.nlargest\u001b[39m\u001b[34m(self, n, columns, keep)\u001b[39m\n\u001b[32m   7532\u001b[39m \u001b[38;5;28;01mdef\u001b[39;00m\u001b[38;5;250m \u001b[39m\u001b[34mnlargest\u001b[39m(\n\u001b[32m   7533\u001b[39m     \u001b[38;5;28mself\u001b[39m, n: \u001b[38;5;28mint\u001b[39m, columns: IndexLabel, keep: NsmallestNlargestKeep = \u001b[33m\"\u001b[39m\u001b[33mfirst\u001b[39m\u001b[33m\"\u001b[39m\n\u001b[32m   7534\u001b[39m ) -> DataFrame:\n\u001b[32m   7535\u001b[39m \u001b[38;5;250m    \u001b[39m\u001b[33;03m\"\"\"\u001b[39;00m\n\u001b[32m   7536\u001b[39m \u001b[33;03m    Return the first `n` rows ordered by `columns` in descending order.\u001b[39;00m\n\u001b[32m   7537\u001b[39m \n\u001b[32m   (...)\u001b[39m\u001b[32m   7649\u001b[39m \u001b[33;03m    Brunei      434000    12128      BN\u001b[39;00m\n\u001b[32m   7650\u001b[39m \u001b[33;03m    \"\"\"\u001b[39;00m\n\u001b[32m-> \u001b[39m\u001b[32m7651\u001b[39m     \u001b[38;5;28;01mreturn\u001b[39;00m \u001b[43mselectn\u001b[49m\u001b[43m.\u001b[49m\u001b[43mSelectNFrame\u001b[49m\u001b[43m(\u001b[49m\u001b[38;5;28;43mself\u001b[39;49m\u001b[43m,\u001b[49m\u001b[43m \u001b[49m\u001b[43mn\u001b[49m\u001b[43m=\u001b[49m\u001b[43mn\u001b[49m\u001b[43m,\u001b[49m\u001b[43m \u001b[49m\u001b[43mkeep\u001b[49m\u001b[43m=\u001b[49m\u001b[43mkeep\u001b[49m\u001b[43m,\u001b[49m\u001b[43m \u001b[49m\u001b[43mcolumns\u001b[49m\u001b[43m=\u001b[49m\u001b[43mcolumns\u001b[49m\u001b[43m)\u001b[49m\u001b[43m.\u001b[49m\u001b[43mnlargest\u001b[49m\u001b[43m(\u001b[49m\u001b[43m)\u001b[49m\n",
      "\u001b[36mFile \u001b[39m\u001b[32m~\\Analytics_Projects\\my_env\\Lib\\site-packages\\pandas\\core\\methods\\selectn.py:57\u001b[39m, in \u001b[36mSelectN.nlargest\u001b[39m\u001b[34m(self)\u001b[39m\n\u001b[32m     55\u001b[39m \u001b[38;5;129m@final\u001b[39m\n\u001b[32m     56\u001b[39m \u001b[38;5;28;01mdef\u001b[39;00m\u001b[38;5;250m \u001b[39m\u001b[34mnlargest\u001b[39m(\u001b[38;5;28mself\u001b[39m):\n\u001b[32m---> \u001b[39m\u001b[32m57\u001b[39m     \u001b[38;5;28;01mreturn\u001b[39;00m \u001b[38;5;28;43mself\u001b[39;49m\u001b[43m.\u001b[49m\u001b[43mcompute\u001b[49m\u001b[43m(\u001b[49m\u001b[33;43m\"\u001b[39;49m\u001b[33;43mnlargest\u001b[39;49m\u001b[33;43m\"\u001b[39;49m\u001b[43m)\u001b[49m\n",
      "\u001b[36mFile \u001b[39m\u001b[32m~\\Analytics_Projects\\my_env\\Lib\\site-packages\\pandas\\core\\methods\\selectn.py:199\u001b[39m, in \u001b[36mSelectNFrame.compute\u001b[39m\u001b[34m(self, method)\u001b[39m\n\u001b[32m    196\u001b[39m columns = \u001b[38;5;28mself\u001b[39m.columns\n\u001b[32m    198\u001b[39m \u001b[38;5;28;01mfor\u001b[39;00m column \u001b[38;5;129;01min\u001b[39;00m columns:\n\u001b[32m--> \u001b[39m\u001b[32m199\u001b[39m     dtype = \u001b[43mframe\u001b[49m\u001b[43m[\u001b[49m\u001b[43mcolumn\u001b[49m\u001b[43m]\u001b[49m.dtype\n\u001b[32m    200\u001b[39m     \u001b[38;5;28;01mif\u001b[39;00m \u001b[38;5;129;01mnot\u001b[39;00m \u001b[38;5;28mself\u001b[39m.is_valid_dtype_n_method(dtype):\n\u001b[32m    201\u001b[39m         \u001b[38;5;28;01mraise\u001b[39;00m \u001b[38;5;167;01mTypeError\u001b[39;00m(\n\u001b[32m    202\u001b[39m             \u001b[33mf\u001b[39m\u001b[33m\"\u001b[39m\u001b[33mColumn \u001b[39m\u001b[38;5;132;01m{\u001b[39;00m\u001b[38;5;28mrepr\u001b[39m(column)\u001b[38;5;132;01m}\u001b[39;00m\u001b[33m has dtype \u001b[39m\u001b[38;5;132;01m{\u001b[39;00mdtype\u001b[38;5;132;01m}\u001b[39;00m\u001b[33m, \u001b[39m\u001b[33m\"\u001b[39m\n\u001b[32m    203\u001b[39m             \u001b[33mf\u001b[39m\u001b[33m\"\u001b[39m\u001b[33mcannot use method \u001b[39m\u001b[38;5;132;01m{\u001b[39;00m\u001b[38;5;28mrepr\u001b[39m(method)\u001b[38;5;132;01m}\u001b[39;00m\u001b[33m with this dtype\u001b[39m\u001b[33m\"\u001b[39m\n\u001b[32m    204\u001b[39m         )\n",
      "\u001b[36mFile \u001b[39m\u001b[32m~\\Analytics_Projects\\my_env\\Lib\\site-packages\\pandas\\core\\frame.py:4107\u001b[39m, in \u001b[36mDataFrame.__getitem__\u001b[39m\u001b[34m(self, key)\u001b[39m\n\u001b[32m   4105\u001b[39m \u001b[38;5;28;01mif\u001b[39;00m \u001b[38;5;28mself\u001b[39m.columns.nlevels > \u001b[32m1\u001b[39m:\n\u001b[32m   4106\u001b[39m     \u001b[38;5;28;01mreturn\u001b[39;00m \u001b[38;5;28mself\u001b[39m._getitem_multilevel(key)\n\u001b[32m-> \u001b[39m\u001b[32m4107\u001b[39m indexer = \u001b[38;5;28;43mself\u001b[39;49m\u001b[43m.\u001b[49m\u001b[43mcolumns\u001b[49m\u001b[43m.\u001b[49m\u001b[43mget_loc\u001b[49m\u001b[43m(\u001b[49m\u001b[43mkey\u001b[49m\u001b[43m)\u001b[49m\n\u001b[32m   4108\u001b[39m \u001b[38;5;28;01mif\u001b[39;00m is_integer(indexer):\n\u001b[32m   4109\u001b[39m     indexer = [indexer]\n",
      "\u001b[36mFile \u001b[39m\u001b[32m~\\Analytics_Projects\\my_env\\Lib\\site-packages\\pandas\\core\\indexes\\base.py:3819\u001b[39m, in \u001b[36mIndex.get_loc\u001b[39m\u001b[34m(self, key)\u001b[39m\n\u001b[32m   3814\u001b[39m     \u001b[38;5;28;01mif\u001b[39;00m \u001b[38;5;28misinstance\u001b[39m(casted_key, \u001b[38;5;28mslice\u001b[39m) \u001b[38;5;129;01mor\u001b[39;00m (\n\u001b[32m   3815\u001b[39m         \u001b[38;5;28misinstance\u001b[39m(casted_key, abc.Iterable)\n\u001b[32m   3816\u001b[39m         \u001b[38;5;129;01mand\u001b[39;00m \u001b[38;5;28many\u001b[39m(\u001b[38;5;28misinstance\u001b[39m(x, \u001b[38;5;28mslice\u001b[39m) \u001b[38;5;28;01mfor\u001b[39;00m x \u001b[38;5;129;01min\u001b[39;00m casted_key)\n\u001b[32m   3817\u001b[39m     ):\n\u001b[32m   3818\u001b[39m         \u001b[38;5;28;01mraise\u001b[39;00m InvalidIndexError(key)\n\u001b[32m-> \u001b[39m\u001b[32m3819\u001b[39m     \u001b[38;5;28;01mraise\u001b[39;00m \u001b[38;5;167;01mKeyError\u001b[39;00m(key) \u001b[38;5;28;01mfrom\u001b[39;00m\u001b[38;5;250m \u001b[39m\u001b[34;01merr\u001b[39;00m\n\u001b[32m   3820\u001b[39m \u001b[38;5;28;01mexcept\u001b[39;00m \u001b[38;5;167;01mTypeError\u001b[39;00m:\n\u001b[32m   3821\u001b[39m     \u001b[38;5;66;03m# If we have a listlike key, _check_indexing_error will raise\u001b[39;00m\n\u001b[32m   3822\u001b[39m     \u001b[38;5;66;03m#  InvalidIndexError. Otherwise we fall through and re-raise\u001b[39;00m\n\u001b[32m   3823\u001b[39m     \u001b[38;5;66;03m#  the TypeError.\u001b[39;00m\n\u001b[32m   3824\u001b[39m     \u001b[38;5;28mself\u001b[39m._check_indexing_error(key)\n",
      "\u001b[31mKeyError\u001b[39m: 'MEDIA_YIELD_12M'"
     ]
    }
   ],
   "source": [
    "# Filtra os 30 FIIs com maior YIELD (yield de 12 meses)\n",
    "df_top_30_yield = df_fiis.nlargest(30, 'MEDIA_YIELD_12M')\n",
    "\n",
    "# Cria o gráfico de barras com Matplotlib\n",
    "plt.figure(figsize=(15, 8))\n",
    "plt.barh(df_top_30_yield['TICKER'], df_top_30_yield['MEDIA_YIELD_12M'], color='green')\n",
    "plt.xlabel('Dividend Yield (12M)')\n",
    "plt.title('Top 30 FIIs por Dividend Yield')\n",
    "plt.gca().invert_yaxis() # Inverte a ordem para o maior ficar no topo\n",
    "plt.show()"
   ]
  },
  {
   "cell_type": "markdown",
   "id": "734005e9-2f10-4657-9ae2-435b0600398f",
   "metadata": {},
   "source": [
    "#### Dispersão P/VP vs Rentabilidade"
   ]
  },
  {
   "cell_type": "code",
   "execution_count": 209,
   "id": "7195a4b5-1d05-4cf9-9b77-7a464394efa5",
   "metadata": {},
   "outputs": [
    {
     "data": {
      "image/png": "[encoded data removed]",
      "text/plain": [
       "<Figure size 800x500 with 1 Axes>"
      ]
     },
     "metadata": {},
     "output_type": "display_data"
    }
   ],
   "source": [
    "# Boxplot para o P/VP\n",
    "plt.figure(figsize=(8, 5))\n",
    "sns.boxplot(x=df_filtrado['PVP'])\n",
    "plt.title('Distribuição do P/VP (FIIs filtrados)')\n",
    "plt.show()"
   ]
  },
  {
   "cell_type": "markdown",
   "id": "7649dcab-bbc8-4ecf-b392-b2b7850ac752",
   "metadata": {},
   "source": [
    "#### Gráfico de barras - Ranking de FIIs pela rentabilidade"
   ]
  },
  {
   "cell_type": "code",
   "execution_count": 196,
   "id": "5998eee8-65bd-4b71-a535-1742477d3abf",
   "metadata": {
    "scrolled": true
   },
   "outputs": [
    {
     "data": {
      "application/vnd.plotly.v1+json": {
       "config": {
        "plotlyServerURL": "https://plot.ly"
       },
       "data": [
        {
         "marker": {
          "color": "royalblue"
         },
         "type": "bar",
         "x": [
          "GSFI11"
         ],
         "y": {
          "bdata": "bHh6pSxDnD8=",
          "dtype": "f8"
         }
        }
       ],
       "layout": {
        "template": {
         "data": {
          "bar": [
           {
            "error_x": {
             "color": "#2a3f5f"
            },
            "error_y": {
             "color": "#2a3f5f"
            },
            "marker": {
             "line": {
              "color": "#E5ECF6",
              "width": 0.5
             },
             "pattern": {
              "fillmode": "overlay",
              "size": 10,
              "solidity": 0.2
             }
            },
            "type": "bar"
           }
          ],
          "barpolar": [
           {
            "marker": {
             "line": {
              "color": "#E5ECF6",
              "width": 0.5
             },
             "pattern": {
              "fillmode": "overlay",
              "size": 10,
              "solidity": 0.2
             }
            },
            "type": "barpolar"
           }
          ],
          "carpet": [
           {
            "aaxis": {
             "endlinecolor": "#2a3f5f",
             "gridcolor": "white",
             "linecolor": "white",
             "minorgridcolor": "white",
             "startlinecolor": "#2a3f5f"
            },
            "baxis": {
             "endlinecolor": "#2a3f5f",
             "gridcolor": "white",
             "linecolor": "white",
             "minorgridcolor": "white",
             "startlinecolor": "#2a3f5f"
            },
            "type": "carpet"
           }
          ],
          "choropleth": [
           {
            "colorbar": {
             "outlinewidth": 0,
             "ticks": ""
            },
            "type": "choropleth"
           }
          ],
          "contour": [
           {
            "colorbar": {
             "outlinewidth": 0,
             "ticks": ""
            },
            "colorscale": [
             [
              0,
              "#0d0887"
             ],
             [
              0.1111111111111111,
              "#46039f"
             ],
             [
              0.2222222222222222,
              "#7201a8"
             ],
             [
              0.3333333333333333,
              "#9c179e"
             ],
             [
              0.4444444444444444,
              "#bd3786"
             ],
             [
              0.5555555555555556,
              "#d8576b"
             ],
             [
              0.6666666666666666,
              "#ed7953"
             ],
             [
              0.7777777777777778,
              "#fb9f3a"
             ],
             [
              0.8888888888888888,
              "#fdca26"
             ],
             [
              1,
              "#f0f921"
             ]
            ],
            "type": "contour"
           }
          ],
          "contourcarpet": [
           {
            "colorbar": {
             "outlinewidth": 0,
             "ticks": ""
            },
            "type": "contourcarpet"
           }
          ],
          "heatmap": [
           {
            "colorbar": {
             "outlinewidth": 0,
             "ticks": ""
            },
            "colorscale": [
             [
              0,
              "#0d0887"
             ],
             [
              0.1111111111111111,
              "#46039f"
             ],
             [
              0.2222222222222222,
              "#7201a8"
             ],
             [
              0.3333333333333333,
              "#9c179e"
             ],
             [
              0.4444444444444444,
              "#bd3786"
             ],
             [
              0.5555555555555556,
              "#d8576b"
             ],
             [
              0.6666666666666666,
              "#ed7953"
             ],
             [
              0.7777777777777778,
              "#fb9f3a"
             ],
             [
              0.8888888888888888,
              "#fdca26"
             ],
             [
              1,
              "#f0f921"
             ]
            ],
            "type": "heatmap"
           }
          ],
          "histogram": [
           {
            "marker": {
             "pattern": {
              "fillmode": "overlay",
              "size": 10,
              "solidity": 0.2
             }
            },
            "type": "histogram"
           }
          ],
          "histogram2d": [
           {
            "colorbar": {
             "outlinewidth": 0,
             "ticks": ""
            },
            "colorscale": [
             [
              0,
              "#0d0887"
             ],
             [
              0.1111111111111111,
              "#46039f"
             ],
             [
              0.2222222222222222,
              "#7201a8"
             ],
             [
              0.3333333333333333,
              "#9c179e"
             ],
             [
              0.4444444444444444,
              "#bd3786"
             ],
             [
              0.5555555555555556,
              "#d8576b"
             ],
             [
              0.6666666666666666,
              "#ed7953"
             ],
             [
              0.7777777777777778,
              "#fb9f3a"
             ],
             [
              0.8888888888888888,
              "#fdca26"
             ],
             [
              1,
              "#f0f921"
             ]
            ],
            "type": "histogram2d"
           }
          ],
          "histogram2dcontour": [
           {
            "colorbar": {
             "outlinewidth": 0,
             "ticks": ""
            },
            "colorscale": [
             [
              0,
              "#0d0887"
             ],
             [
              0.1111111111111111,
              "#46039f"
             ],
             [
              0.2222222222222222,
              "#7201a8"
             ],
             [
              0.3333333333333333,
              "#9c179e"
             ],
             [
              0.4444444444444444,
              "#bd3786"
             ],
             [
              0.5555555555555556,
              "#d8576b"
             ],
             [
              0.6666666666666666,
              "#ed7953"
             ],
             [
              0.7777777777777778,
              "#fb9f3a"
             ],
             [
              0.8888888888888888,
              "#fdca26"
             ],
             [
              1,
              "#f0f921"
             ]
            ],
            "type": "histogram2dcontour"
           }
          ],
          "mesh3d": [
           {
            "colorbar": {
             "outlinewidth": 0,
             "ticks": ""
            },
            "type": "mesh3d"
           }
          ],
          "parcoords": [
           {
            "line": {
             "colorbar": {
              "outlinewidth": 0,
              "ticks": ""
             }
            },
            "type": "parcoords"
           }
          ],
          "pie": [
           {
            "automargin": true,
            "type": "pie"
           }
          ],
          "scatter": [
           {
            "fillpattern": {
             "fillmode": "overlay",
             "size": 10,
             "solidity": 0.2
            },
            "type": "scatter"
           }
          ],
          "scatter3d": [
           {
            "line": {
             "colorbar": {
              "outlinewidth": 0,
              "ticks": ""
             }
            },
            "marker": {
             "colorbar": {
              "outlinewidth": 0,
              "ticks": ""
             }
            },
            "type": "scatter3d"
           }
          ],
          "scattercarpet": [
           {
            "marker": {
             "colorbar": {
              "outlinewidth": 0,
              "ticks": ""
             }
            },
            "type": "scattercarpet"
           }
          ],
          "scattergeo": [
           {
            "marker": {
             "colorbar": {
              "outlinewidth": 0,
              "ticks": ""
             }
            },
            "type": "scattergeo"
           }
          ],
          "scattergl": [
           {
            "marker": {
             "colorbar": {
              "outlinewidth": 0,
              "ticks": ""
             }
            },
            "type": "scattergl"
           }
          ],
          "scattermap": [
           {
            "marker": {
             "colorbar": {
              "outlinewidth": 0,
              "ticks": ""
             }
            },
            "type": "scattermap"
           }
          ],
          "scattermapbox": [
           {
            "marker": {
             "colorbar": {
              "outlinewidth": 0,
              "ticks": ""
             }
            },
            "type": "scattermapbox"
           }
          ],
          "scatterpolar": [
           {
            "marker": {
             "colorbar": {
              "outlinewidth": 0,
              "ticks": ""
             }
            },
            "type": "scatterpolar"
           }
          ],
          "scatterpolargl": [
           {
            "marker": {
             "colorbar": {
              "outlinewidth": 0,
              "ticks": ""
             }
            },
            "type": "scatterpolargl"
           }
          ],
          "scatterternary": [
           {
            "marker": {
             "colorbar": {
              "outlinewidth": 0,
              "ticks": ""
             }
            },
            "type": "scatterternary"
           }
          ],
          "surface": [
           {
            "colorbar": {
             "outlinewidth": 0,
             "ticks": ""
            },
            "colorscale": [
             [
              0,
              "#0d0887"
             ],
             [
              0.1111111111111111,
              "#46039f"
             ],
             [
              0.2222222222222222,
              "#7201a8"
             ],
             [
              0.3333333333333333,
              "#9c179e"
             ],
             [
              0.4444444444444444,
              "#bd3786"
             ],
             [
              0.5555555555555556,
              "#d8576b"
             ],
             [
              0.6666666666666666,
              "#ed7953"
             ],
             [
              0.7777777777777778,
              "#fb9f3a"
             ],
             [
              0.8888888888888888,
              "#fdca26"
             ],
             [
              1,
              "#f0f921"
             ]
            ],
            "type": "surface"
           }
          ],
          "table": [
           {
            "cells": {
             "fill": {
              "color": "#EBF0F8"
             },
             "line": {
              "color": "white"
             }
            },
            "header": {
             "fill": {
              "color": "#C8D4E3"
             },
             "line": {
              "color": "white"
             }
            },
            "type": "table"
           }
          ]
         },
         "layout": {
          "annotationdefaults": {
           "arrowcolor": "#2a3f5f",
           "arrowhead": 0,
           "arrowwidth": 1
          },
          "autotypenumbers": "strict",
          "coloraxis": {
           "colorbar": {
            "outlinewidth": 0,
            "ticks": ""
           }
          },
          "colorscale": {
           "diverging": [
            [
             0,
             "#8e0152"
            ],
            [
             0.1,
             "#c51b7d"
            ],
            [
             0.2,
             "#de77ae"
            ],
            [
             0.3,
             "#f1b6da"
            ],
            [
             0.4,
             "#fde0ef"
            ],
            [
             0.5,
             "#f7f7f7"
            ],
            [
             0.6,
             "#e6f5d0"
            ],
            [
             0.7,
             "#b8e186"
            ],
            [
             0.8,
             "#7fbc41"
            ],
            [
             0.9,
             "#4d9221"
            ],
            [
             1,
             "#276419"
            ]
           ],
           "sequential": [
            [
             0,
             "#0d0887"
            ],
            [
             0.1111111111111111,
             "#46039f"
            ],
            [
             0.2222222222222222,
             "#7201a8"
            ],
            [
             0.3333333333333333,
             "#9c179e"
            ],
            [
             0.4444444444444444,
             "#bd3786"
            ],
            [
             0.5555555555555556,
             "#d8576b"
            ],
            [
             0.6666666666666666,
             "#ed7953"
            ],
            [
             0.7777777777777778,
             "#fb9f3a"
            ],
            [
             0.8888888888888888,
             "#fdca26"
            ],
            [
             1,
             "#f0f921"
            ]
           ],
           "sequentialminus": [
            [
             0,
             "#0d0887"
            ],
            [
             0.1111111111111111,
             "#46039f"
            ],
            [
             0.2222222222222222,
             "#7201a8"
            ],
            [
             0.3333333333333333,
             "#9c179e"
            ],
            [
             0.4444444444444444,
             "#bd3786"
            ],
            [
             0.5555555555555556,
             "#d8576b"
            ],
            [
             0.6666666666666666,
             "#ed7953"
            ],
            [
             0.7777777777777778,
             "#fb9f3a"
            ],
            [
             0.8888888888888888,
             "#fdca26"
            ],
            [
             1,
             "#f0f921"
            ]
           ]
          },
          "colorway": [
           "#636efa",
           "#EF553B",
           "#00cc96",
           "#ab63fa",
           "#FFA15A",
           "#19d3f3",
           "#FF6692",
           "#B6E880",
           "#FF97FF",
           "#FECB52"
          ],
          "font": {
           "color": "#2a3f5f"
          },
          "geo": {
           "bgcolor": "white",
           "lakecolor": "white",
           "landcolor": "#E5ECF6",
           "showlakes": true,
           "showland": true,
           "subunitcolor": "white"
          },
          "hoverlabel": {
           "align": "left"
          },
          "hovermode": "closest",
          "mapbox": {
           "style": "light"
          },
          "paper_bgcolor": "white",
          "plot_bgcolor": "#E5ECF6",
          "polar": {
           "angularaxis": {
            "gridcolor": "white",
            "linecolor": "white",
            "ticks": ""
           },
           "bgcolor": "#E5ECF6",
           "radialaxis": {
            "gridcolor": "white",
            "linecolor": "white",
            "ticks": ""
           }
          },
          "scene": {
           "xaxis": {
            "backgroundcolor": "#E5ECF6",
            "gridcolor": "white",
            "gridwidth": 2,
            "linecolor": "white",
            "showbackground": true,
            "ticks": "",
            "zerolinecolor": "white"
           },
           "yaxis": {
            "backgroundcolor": "#E5ECF6",
            "gridcolor": "white",
            "gridwidth": 2,
            "linecolor": "white",
            "showbackground": true,
            "ticks": "",
            "zerolinecolor": "white"
           },
           "zaxis": {
            "backgroundcolor": "#E5ECF6",
            "gridcolor": "white",
            "gridwidth": 2,
            "linecolor": "white",
            "showbackground": true,
            "ticks": "",
            "zerolinecolor": "white"
           }
          },
          "shapedefaults": {
           "line": {
            "color": "#2a3f5f"
           }
          },
          "ternary": {
           "aaxis": {
            "gridcolor": "white",
            "linecolor": "white",
            "ticks": ""
           },
           "baxis": {
            "gridcolor": "white",
            "linecolor": "white",
            "ticks": ""
           },
           "bgcolor": "#E5ECF6",
           "caxis": {
            "gridcolor": "white",
            "linecolor": "white",
            "ticks": ""
           }
          },
          "title": {
           "x": 0.05
          },
          "xaxis": {
           "automargin": true,
           "gridcolor": "white",
           "linecolor": "white",
           "ticks": "",
           "title": {
            "standoff": 15
           },
           "zerolinecolor": "white",
           "zerolinewidth": 2
          },
          "yaxis": {
           "automargin": true,
           "gridcolor": "white",
           "linecolor": "white",
           "ticks": "",
           "title": {
            "standoff": 15
           },
           "zerolinecolor": "white",
           "zerolinewidth": 2
          }
         }
        },
        "title": {
         "text": "Ranking dos FIIs por Rentabilidade"
        },
        "xaxis": {
         "title": {
          "text": "FII"
         }
        },
        "yaxis": {
         "title": {
          "text": "Rentabilidade"
         }
        }
       }
      }
     },
     "metadata": {},
     "output_type": "display_data"
    }
   ],
   "source": [
    "import plotly.graph_objects as go\n",
    "\n",
    "# Ordena os FIIs por rentabilidade\n",
    "df_top_rent = df_filtrado.nlargest(10, 'RENTABILIDADE')\n",
    "\n",
    "fig = go.Figure(data=[\n",
    "    go.Bar(\n",
    "        x=df_top_rent['TICKER'],\n",
    "        y=df_top_rent['RENTABILIDADE'],\n",
    "        marker_color='royalblue'\n",
    "    )\n",
    "])\n",
    "\n",
    "fig.update_layout(title_text='Ranking dos FIIs por Rentabilidade',\n",
    "                  xaxis_title='FII',\n",
    "                  yaxis_title='Rentabilidade')\n",
    "\n",
    "fig.show()"
   ]
  },
  {
   "cell_type": "markdown",
   "id": "8b14b536-4ca0-4333-8b6d-aaf499ba9ca8",
   "metadata": {},
   "source": [
    "#### Gráfico de bolhas(3D)"
   ]
  },
  {
   "cell_type": "code",
   "execution_count": 200,
   "id": "72c11540-c21d-4b65-a58b-3f1925c08b6d",
   "metadata": {},
   "outputs": [
    {
     "ename": "KeyError",
     "evalue": "'RENTABILIDADE'",
     "output_type": "error",
     "traceback": [
      "\u001b[31m---------------------------------------------------------------------------\u001b[39m",
      "\u001b[31mKeyError\u001b[39m                                  Traceback (most recent call last)",
      "\u001b[36mFile \u001b[39m\u001b[32m~\\Analytics_Projects\\my_env\\Lib\\site-packages\\pandas\\core\\indexes\\base.py:3812\u001b[39m, in \u001b[36mIndex.get_loc\u001b[39m\u001b[34m(self, key)\u001b[39m\n\u001b[32m   3811\u001b[39m \u001b[38;5;28;01mtry\u001b[39;00m:\n\u001b[32m-> \u001b[39m\u001b[32m3812\u001b[39m     \u001b[38;5;28;01mreturn\u001b[39;00m \u001b[38;5;28;43mself\u001b[39;49m\u001b[43m.\u001b[49m\u001b[43m_engine\u001b[49m\u001b[43m.\u001b[49m\u001b[43mget_loc\u001b[49m\u001b[43m(\u001b[49m\u001b[43mcasted_key\u001b[49m\u001b[43m)\u001b[49m\n\u001b[32m   3813\u001b[39m \u001b[38;5;28;01mexcept\u001b[39;00m \u001b[38;5;167;01mKeyError\u001b[39;00m \u001b[38;5;28;01mas\u001b[39;00m err:\n",
      "\u001b[36mFile \u001b[39m\u001b[32mpandas/_libs/index.pyx:167\u001b[39m, in \u001b[36mpandas._libs.index.IndexEngine.get_loc\u001b[39m\u001b[34m()\u001b[39m\n",
      "\u001b[36mFile \u001b[39m\u001b[32mpandas/_libs/index.pyx:196\u001b[39m, in \u001b[36mpandas._libs.index.IndexEngine.get_loc\u001b[39m\u001b[34m()\u001b[39m\n",
      "\u001b[36mFile \u001b[39m\u001b[32mpandas/_libs/hashtable_class_helper.pxi:7088\u001b[39m, in \u001b[36mpandas._libs.hashtable.PyObjectHashTable.get_item\u001b[39m\u001b[34m()\u001b[39m\n",
      "\u001b[36mFile \u001b[39m\u001b[32mpandas/_libs/hashtable_class_helper.pxi:7096\u001b[39m, in \u001b[36mpandas._libs.hashtable.PyObjectHashTable.get_item\u001b[39m\u001b[34m()\u001b[39m\n",
      "\u001b[31mKeyError\u001b[39m: 'RENTABILIDADE'",
      "\nThe above exception was the direct cause of the following exception:\n",
      "\u001b[31mKeyError\u001b[39m                                  Traceback (most recent call last)",
      "\u001b[36mCell\u001b[39m\u001b[36m \u001b[39m\u001b[32mIn[200]\u001b[39m\u001b[32m, line 4\u001b[39m\n\u001b[32m      1\u001b[39m \u001b[38;5;28;01mimport\u001b[39;00m\u001b[38;5;250m \u001b[39m\u001b[34;01mplotly\u001b[39;00m\u001b[34;01m.\u001b[39;00m\u001b[34;01mgraph_objects\u001b[39;00m\u001b[38;5;250m \u001b[39m\u001b[38;5;28;01mas\u001b[39;00m\u001b[38;5;250m \u001b[39m\u001b[34;01mgo\u001b[39;00m\n\u001b[32m      3\u001b[39m \u001b[38;5;66;03m# Ordena os FIIs por rentabilidade\u001b[39;00m\n\u001b[32m----> \u001b[39m\u001b[32m4\u001b[39m df_top_rent = \u001b[43mdf_fiis\u001b[49m\u001b[43m.\u001b[49m\u001b[43mnlargest\u001b[49m\u001b[43m(\u001b[49m\u001b[32;43m10\u001b[39;49m\u001b[43m,\u001b[49m\u001b[43m \u001b[49m\u001b[33;43m'\u001b[39;49m\u001b[33;43mRENTABILIDADE\u001b[39;49m\u001b[33;43m'\u001b[39;49m\u001b[43m)\u001b[49m\n\u001b[32m      6\u001b[39m fig = go.Figure(data=[\n\u001b[32m      7\u001b[39m     go.Bar(\n\u001b[32m      8\u001b[39m         x=df_top_rent[\u001b[33m'\u001b[39m\u001b[33mTICKER\u001b[39m\u001b[33m'\u001b[39m],\n\u001b[32m   (...)\u001b[39m\u001b[32m     11\u001b[39m     )\n\u001b[32m     12\u001b[39m ])\n\u001b[32m     14\u001b[39m fig.update_layout(title_text=\u001b[33m'\u001b[39m\u001b[33mRanking dos FIIs por Rentabilidade\u001b[39m\u001b[33m'\u001b[39m,\n\u001b[32m     15\u001b[39m                   xaxis_title=\u001b[33m'\u001b[39m\u001b[33mFII\u001b[39m\u001b[33m'\u001b[39m,\n\u001b[32m     16\u001b[39m                   yaxis_title=\u001b[33m'\u001b[39m\u001b[33mRentabilidade\u001b[39m\u001b[33m'\u001b[39m)\n",
      "\u001b[36mFile \u001b[39m\u001b[32m~\\Analytics_Projects\\my_env\\Lib\\site-packages\\pandas\\core\\frame.py:7651\u001b[39m, in \u001b[36mDataFrame.nlargest\u001b[39m\u001b[34m(self, n, columns, keep)\u001b[39m\n\u001b[32m   7532\u001b[39m \u001b[38;5;28;01mdef\u001b[39;00m\u001b[38;5;250m \u001b[39m\u001b[34mnlargest\u001b[39m(\n\u001b[32m   7533\u001b[39m     \u001b[38;5;28mself\u001b[39m, n: \u001b[38;5;28mint\u001b[39m, columns: IndexLabel, keep: NsmallestNlargestKeep = \u001b[33m\"\u001b[39m\u001b[33mfirst\u001b[39m\u001b[33m\"\u001b[39m\n\u001b[32m   7534\u001b[39m ) -> DataFrame:\n\u001b[32m   7535\u001b[39m \u001b[38;5;250m    \u001b[39m\u001b[33;03m\"\"\"\u001b[39;00m\n\u001b[32m   7536\u001b[39m \u001b[33;03m    Return the first `n` rows ordered by `columns` in descending order.\u001b[39;00m\n\u001b[32m   7537\u001b[39m \n\u001b[32m   (...)\u001b[39m\u001b[32m   7649\u001b[39m \u001b[33;03m    Brunei      434000    12128      BN\u001b[39;00m\n\u001b[32m   7650\u001b[39m \u001b[33;03m    \"\"\"\u001b[39;00m\n\u001b[32m-> \u001b[39m\u001b[32m7651\u001b[39m     \u001b[38;5;28;01mreturn\u001b[39;00m \u001b[43mselectn\u001b[49m\u001b[43m.\u001b[49m\u001b[43mSelectNFrame\u001b[49m\u001b[43m(\u001b[49m\u001b[38;5;28;43mself\u001b[39;49m\u001b[43m,\u001b[49m\u001b[43m \u001b[49m\u001b[43mn\u001b[49m\u001b[43m=\u001b[49m\u001b[43mn\u001b[49m\u001b[43m,\u001b[49m\u001b[43m \u001b[49m\u001b[43mkeep\u001b[49m\u001b[43m=\u001b[49m\u001b[43mkeep\u001b[49m\u001b[43m,\u001b[49m\u001b[43m \u001b[49m\u001b[43mcolumns\u001b[49m\u001b[43m=\u001b[49m\u001b[43mcolumns\u001b[49m\u001b[43m)\u001b[49m\u001b[43m.\u001b[49m\u001b[43mnlargest\u001b[49m\u001b[43m(\u001b[49m\u001b[43m)\u001b[49m\n",
      "\u001b[36mFile \u001b[39m\u001b[32m~\\Analytics_Projects\\my_env\\Lib\\site-packages\\pandas\\core\\methods\\selectn.py:57\u001b[39m, in \u001b[36mSelectN.nlargest\u001b[39m\u001b[34m(self)\u001b[39m\n\u001b[32m     55\u001b[39m \u001b[38;5;129m@final\u001b[39m\n\u001b[32m     56\u001b[39m \u001b[38;5;28;01mdef\u001b[39;00m\u001b[38;5;250m \u001b[39m\u001b[34mnlargest\u001b[39m(\u001b[38;5;28mself\u001b[39m):\n\u001b[32m---> \u001b[39m\u001b[32m57\u001b[39m     \u001b[38;5;28;01mreturn\u001b[39;00m \u001b[38;5;28;43mself\u001b[39;49m\u001b[43m.\u001b[49m\u001b[43mcompute\u001b[49m\u001b[43m(\u001b[49m\u001b[33;43m\"\u001b[39;49m\u001b[33;43mnlargest\u001b[39;49m\u001b[33;43m\"\u001b[39;49m\u001b[43m)\u001b[49m\n",
      "\u001b[36mFile \u001b[39m\u001b[32m~\\Analytics_Projects\\my_env\\Lib\\site-packages\\pandas\\core\\methods\\selectn.py:199\u001b[39m, in \u001b[36mSelectNFrame.compute\u001b[39m\u001b[34m(self, method)\u001b[39m\n\u001b[32m    196\u001b[39m columns = \u001b[38;5;28mself\u001b[39m.columns\n\u001b[32m    198\u001b[39m \u001b[38;5;28;01mfor\u001b[39;00m column \u001b[38;5;129;01min\u001b[39;00m columns:\n\u001b[32m--> \u001b[39m\u001b[32m199\u001b[39m     dtype = \u001b[43mframe\u001b[49m\u001b[43m[\u001b[49m\u001b[43mcolumn\u001b[49m\u001b[43m]\u001b[49m.dtype\n\u001b[32m    200\u001b[39m     \u001b[38;5;28;01mif\u001b[39;00m \u001b[38;5;129;01mnot\u001b[39;00m \u001b[38;5;28mself\u001b[39m.is_valid_dtype_n_method(dtype):\n\u001b[32m    201\u001b[39m         \u001b[38;5;28;01mraise\u001b[39;00m \u001b[38;5;167;01mTypeError\u001b[39;00m(\n\u001b[32m    202\u001b[39m             \u001b[33mf\u001b[39m\u001b[33m\"\u001b[39m\u001b[33mColumn \u001b[39m\u001b[38;5;132;01m{\u001b[39;00m\u001b[38;5;28mrepr\u001b[39m(column)\u001b[38;5;132;01m}\u001b[39;00m\u001b[33m has dtype \u001b[39m\u001b[38;5;132;01m{\u001b[39;00mdtype\u001b[38;5;132;01m}\u001b[39;00m\u001b[33m, \u001b[39m\u001b[33m\"\u001b[39m\n\u001b[32m    203\u001b[39m             \u001b[33mf\u001b[39m\u001b[33m\"\u001b[39m\u001b[33mcannot use method \u001b[39m\u001b[38;5;132;01m{\u001b[39;00m\u001b[38;5;28mrepr\u001b[39m(method)\u001b[38;5;132;01m}\u001b[39;00m\u001b[33m with this dtype\u001b[39m\u001b[33m\"\u001b[39m\n\u001b[32m    204\u001b[39m         )\n",
      "\u001b[36mFile \u001b[39m\u001b[32m~\\Analytics_Projects\\my_env\\Lib\\site-packages\\pandas\\core\\frame.py:4107\u001b[39m, in \u001b[36mDataFrame.__getitem__\u001b[39m\u001b[34m(self, key)\u001b[39m\n\u001b[32m   4105\u001b[39m \u001b[38;5;28;01mif\u001b[39;00m \u001b[38;5;28mself\u001b[39m.columns.nlevels > \u001b[32m1\u001b[39m:\n\u001b[32m   4106\u001b[39m     \u001b[38;5;28;01mreturn\u001b[39;00m \u001b[38;5;28mself\u001b[39m._getitem_multilevel(key)\n\u001b[32m-> \u001b[39m\u001b[32m4107\u001b[39m indexer = \u001b[38;5;28;43mself\u001b[39;49m\u001b[43m.\u001b[49m\u001b[43mcolumns\u001b[49m\u001b[43m.\u001b[49m\u001b[43mget_loc\u001b[49m\u001b[43m(\u001b[49m\u001b[43mkey\u001b[49m\u001b[43m)\u001b[49m\n\u001b[32m   4108\u001b[39m \u001b[38;5;28;01mif\u001b[39;00m is_integer(indexer):\n\u001b[32m   4109\u001b[39m     indexer = [indexer]\n",
      "\u001b[36mFile \u001b[39m\u001b[32m~\\Analytics_Projects\\my_env\\Lib\\site-packages\\pandas\\core\\indexes\\base.py:3819\u001b[39m, in \u001b[36mIndex.get_loc\u001b[39m\u001b[34m(self, key)\u001b[39m\n\u001b[32m   3814\u001b[39m     \u001b[38;5;28;01mif\u001b[39;00m \u001b[38;5;28misinstance\u001b[39m(casted_key, \u001b[38;5;28mslice\u001b[39m) \u001b[38;5;129;01mor\u001b[39;00m (\n\u001b[32m   3815\u001b[39m         \u001b[38;5;28misinstance\u001b[39m(casted_key, abc.Iterable)\n\u001b[32m   3816\u001b[39m         \u001b[38;5;129;01mand\u001b[39;00m \u001b[38;5;28many\u001b[39m(\u001b[38;5;28misinstance\u001b[39m(x, \u001b[38;5;28mslice\u001b[39m) \u001b[38;5;28;01mfor\u001b[39;00m x \u001b[38;5;129;01min\u001b[39;00m casted_key)\n\u001b[32m   3817\u001b[39m     ):\n\u001b[32m   3818\u001b[39m         \u001b[38;5;28;01mraise\u001b[39;00m InvalidIndexError(key)\n\u001b[32m-> \u001b[39m\u001b[32m3819\u001b[39m     \u001b[38;5;28;01mraise\u001b[39;00m \u001b[38;5;167;01mKeyError\u001b[39;00m(key) \u001b[38;5;28;01mfrom\u001b[39;00m\u001b[38;5;250m \u001b[39m\u001b[34;01merr\u001b[39;00m\n\u001b[32m   3820\u001b[39m \u001b[38;5;28;01mexcept\u001b[39;00m \u001b[38;5;167;01mTypeError\u001b[39;00m:\n\u001b[32m   3821\u001b[39m     \u001b[38;5;66;03m# If we have a listlike key, _check_indexing_error will raise\u001b[39;00m\n\u001b[32m   3822\u001b[39m     \u001b[38;5;66;03m#  InvalidIndexError. Otherwise we fall through and re-raise\u001b[39;00m\n\u001b[32m   3823\u001b[39m     \u001b[38;5;66;03m#  the TypeError.\u001b[39;00m\n\u001b[32m   3824\u001b[39m     \u001b[38;5;28mself\u001b[39m._check_indexing_error(key)\n",
      "\u001b[31mKeyError\u001b[39m: 'RENTABILIDADE'"
     ]
    }
   ],
   "source": [
    "import plotly.graph_objects as go\n",
    "\n",
    "# Ordena os FIIs por rentabilidade\n",
    "df_top_rent = df_fiis.nlargest(10, 'RENTABILIDADE')\n",
    "\n",
    "fig = go.Figure(data=[\n",
    "    go.Bar(\n",
    "        x=df_top_rent['TICKER'],\n",
    "        y=df_top_rent['RENTABILIDADE'],\n",
    "        marker_color='royalblue'\n",
    "    )\n",
    "])\n",
    "\n",
    "fig.update_layout(title_text='Ranking dos FIIs por Rentabilidade',\n",
    "                  xaxis_title='FII',\n",
    "                  yaxis_title='Rentabilidade')\n",
    "\n",
    "fig.show()\n"
   ]
  },
  {
   "cell_type": "code",
   "execution_count": null,
   "id": "410c54d1-9377-4a23-8eeb-b1e917262a28",
   "metadata": {},
   "outputs": [],
   "source": []
  }
 ],
 "metadata": {
  "kernelspec": {
   "display_name": "Python (my_env)",
   "language": "python",
   "name": "my_env"
  },
  "language_info": {
   "codemirror_mode": {
    "name": "ipython",
    "version": 3
   },
   "file_extension": ".py",
   "mimetype": "text/x-python",
   "name": "python",
   "nbconvert_exporter": "python",
   "pygments_lexer": "ipython3",
   "version": "3.11.0"
  }
 },
 "nbformat": 4,
 "nbformat_minor": 5
}
